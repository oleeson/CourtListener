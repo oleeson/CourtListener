{
 "cells": [
  {
   "cell_type": "markdown",
   "metadata": {},
   "source": [
    "## Create Data Dictionary for Endpoints in CourtListener API"
   ]
  },
  {
   "cell_type": "code",
   "execution_count": 1,
   "metadata": {},
   "outputs": [],
   "source": [
    "#import required libraries\n",
    "import requests\n",
    "import json\n",
    "import pandas as pd\n",
    "from getpass import getpass\n",
    "import os"
   ]
  },
  {
   "cell_type": "code",
   "execution_count": 2,
   "metadata": {},
   "outputs": [],
   "source": [
    "# request endpoints \n",
    "req = requests.get('https://www.courtlistener.com/api/rest/v3/')"
   ]
  },
  {
   "cell_type": "code",
   "execution_count": 3,
   "metadata": {},
   "outputs": [
    {
     "name": "stdout",
     "output_type": "stream",
     "text": [
      "dockets https://www.courtlistener.com/api/rest/v3/dockets/\n",
      "originating-court-information https://www.courtlistener.com/api/rest/v3/originating-court-information/\n",
      "docket-entries https://www.courtlistener.com/api/rest/v3/docket-entries/\n",
      "recap-documents https://www.courtlistener.com/api/rest/v3/recap-documents/\n",
      "courts https://www.courtlistener.com/api/rest/v3/courts/\n",
      "audio https://www.courtlistener.com/api/rest/v3/audio/\n",
      "clusters https://www.courtlistener.com/api/rest/v3/clusters/\n",
      "opinions https://www.courtlistener.com/api/rest/v3/opinions/\n",
      "opinions-cited https://www.courtlistener.com/api/rest/v3/opinions-cited/\n",
      "search https://www.courtlistener.com/api/rest/v3/search/\n",
      "tag https://www.courtlistener.com/api/rest/v3/tag/\n",
      "people https://www.courtlistener.com/api/rest/v3/people/\n",
      "positions https://www.courtlistener.com/api/rest/v3/positions/\n",
      "retention-events https://www.courtlistener.com/api/rest/v3/retention-events/\n",
      "educations https://www.courtlistener.com/api/rest/v3/educations/\n",
      "schools https://www.courtlistener.com/api/rest/v3/schools/\n",
      "political-affiliations https://www.courtlistener.com/api/rest/v3/political-affiliations/\n",
      "sources https://www.courtlistener.com/api/rest/v3/sources/\n",
      "aba-ratings https://www.courtlistener.com/api/rest/v3/aba-ratings/\n",
      "parties https://www.courtlistener.com/api/rest/v3/parties/\n",
      "attorneys https://www.courtlistener.com/api/rest/v3/attorneys/\n",
      "recap https://www.courtlistener.com/api/rest/v3/recap/\n",
      "recap-fetch https://www.courtlistener.com/api/rest/v3/recap-fetch/\n",
      "recap-query https://www.courtlistener.com/api/rest/v3/recap-query/\n",
      "fjc-integrated-database https://www.courtlistener.com/api/rest/v3/fjc-integrated-database/\n"
     ]
    }
   ],
   "source": [
    "# view endpoints\n",
    "for key, value in req.json().items():\n",
    "    print (key, value)"
   ]
  },
  {
   "cell_type": "code",
   "execution_count": 4,
   "metadata": {},
   "outputs": [],
   "source": [
    "## Define your Token \n",
    "TOKEN = \"Token [YOUR TOKEN HERE]\""
   ]
  },
  {
   "cell_type": "code",
   "execution_count": 5,
   "metadata": {},
   "outputs": [],
   "source": [
    "## Function to create a help text table for all fields\n",
    "## tablename: string \n",
    "## endpointURL: API endpoint URL\n",
    "def make_help_text_table(tablename,endpointURL):\n",
    "    #get options    \n",
    "    options = requests.options(endpointURL,headers={'Authorization': TOKEN})\n",
    "    try:\n",
    "        main_dict = options.json()['actions']['POST']\n",
    "        #get key name for inner dictionary \n",
    "        field_keys = main_dict.keys()\n",
    "        field_names = list(field_keys)\n",
    "\n",
    "        # init empty lists \n",
    "        field_name = []\n",
    "        help_text = []\n",
    "\n",
    "        # loop through fields and create two lists of fields and help text\n",
    "        for field in field_names:\n",
    "            try:\n",
    "                main_dict[field]['help_text']\n",
    "                field_name.append(field)\n",
    "                help_text.append(main_dict[field]['help_text'])\n",
    "            except:\n",
    "                continue    \n",
    "        # create a dictionary to convert to pandas dataframe \n",
    "        data = {'field_name':field_name, 'help_text':help_text}\n",
    "        df = pd.DataFrame(data)\n",
    "        df.insert(0, 'table', tablename)\n",
    "        return df\n",
    "    except:\n",
    "        print (tablename, 'does not have actions key or requires authentication credentials')"
   ]
  },
  {
   "cell_type": "code",
   "execution_count": 6,
   "metadata": {},
   "outputs": [
    {
     "name": "stdout",
     "output_type": "stream",
     "text": [
      "search does not have actions key or requires authentication credentials\n"
     ]
    }
   ],
   "source": [
    "dockets = make_help_text_table(\"dockets\",\"https://www.courtlistener.com/api/rest/v3/dockets/\")\n",
    "originatingcourtinformation = make_help_text_table(\"originating-court-information\",\"https://www.courtlistener.com/api/rest/v3/originating-court-information/\")\n",
    "docketentries = make_help_text_table(\"docket-entries\",\"https://www.courtlistener.com/api/rest/v3/docket-entries/\")\n",
    "recapdocuments = make_help_text_table(\"recap-documents\",\"https://www.courtlistener.com/api/rest/v3/recap-documents/\")\n",
    "courts = make_help_text_table(\"courts\",\"https://www.courtlistener.com/api/rest/v3/courts/\")\n",
    "audio = make_help_text_table(\"audio\",\"https://www.courtlistener.com/api/rest/v3/audio/\")\n",
    "clusters = make_help_text_table(\"clusters\",\"https://www.courtlistener.com/api/rest/v3/clusters/\")\n",
    "opinions = make_help_text_table(\"opinions\",\"https://www.courtlistener.com/api/rest/v3/opinions/\")\n",
    "opinionscited = make_help_text_table(\"opinions-cited\",\"https://www.courtlistener.com/api/rest/v3/opinions-cited/\")\n",
    "search = make_help_text_table(\"search\",\"https://www.courtlistener.com/api/rest/v3/search/\")\n",
    "tag = make_help_text_table(\"tag\",\"https://www.courtlistener.com/api/rest/v3/tag/\")\n",
    "people = make_help_text_table(\"people\",\"https://www.courtlistener.com/api/rest/v3/people/\")\n",
    "positions = make_help_text_table(\"positions\",\"https://www.courtlistener.com/api/rest/v3/positions/\")\n",
    "retentionevents = make_help_text_table(\"retention-events\",\"https://www.courtlistener.com/api/rest/v3/retention-events/\")\n",
    "educations = make_help_text_table(\"educations\",\"https://www.courtlistener.com/api/rest/v3/educations/\")\n",
    "schools = make_help_text_table(\"schools\",\"https://www.courtlistener.com/api/rest/v3/schools/\")\n",
    "politicalaffiliations = make_help_text_table(\"political-affiliations\",\"https://www.courtlistener.com/api/rest/v3/political-affiliations/\")\n",
    "sources = make_help_text_table(\"sources\",\"https://www.courtlistener.com/api/rest/v3/sources/\")\n",
    "abaratings = make_help_text_table(\"aba-ratings\",\"https://www.courtlistener.com/api/rest/v3/aba-ratings/\")\n",
    "parties = make_help_text_table(\"parties\",\"https://www.courtlistener.com/api/rest/v3/parties/\")\n",
    "attorneys = make_help_text_table(\"attorneys\",\"https://www.courtlistener.com/api/rest/v3/attorneys/\")\n",
    "recapfetch = make_help_text_table(\"recap-fetch\",\"https://www.courtlistener.com/api/rest/v3/recap-fetch/\")\n",
    "recapquery = make_help_text_table(\"recap-query\",\"https://www.courtlistener.com/api/rest/v3/recap-query/\")\n",
    "fjcintegrateddatabase = make_help_text_table(\"fjc-integrated-database\",\"https://www.courtlistener.com/api/rest/v3/fjc-integrated-database/\")\n",
    "\n"
   ]
  },
  {
   "cell_type": "code",
   "execution_count": 7,
   "metadata": {},
   "outputs": [],
   "source": [
    "frames = [dockets, originatingcourtinformation, docketentries, recapdocuments, courts, audio, clusters, opinions, \n",
    "          opinionscited, search, tag, people, positions, retentionevents, educations, schools, politicalaffiliations, \n",
    "          sources, abaratings, parties, attorneys, recapfetch, recapquery, fjcintegrateddatabase]"
   ]
  },
  {
   "cell_type": "code",
   "execution_count": 8,
   "metadata": {},
   "outputs": [],
   "source": [
    "#concatenate all tables\n",
    "result = pd.concat(frames)"
   ]
  },
  {
   "cell_type": "code",
   "execution_count": 9,
   "metadata": {},
   "outputs": [],
   "source": [
    "#set path\n",
    "path = os.getcwd()+'/datadictionary.csv'"
   ]
  },
  {
   "cell_type": "code",
   "execution_count": 10,
   "metadata": {},
   "outputs": [],
   "source": [
    "#print to csv\n",
    "result.to_csv(path)"
   ]
  }
 ],
 "metadata": {
  "kernelspec": {
   "display_name": "Python 3",
   "language": "python",
   "name": "python3"
  },
  "language_info": {
   "codemirror_mode": {
    "name": "ipython",
    "version": 3
   },
   "file_extension": ".py",
   "mimetype": "text/x-python",
   "name": "python",
   "nbconvert_exporter": "python",
   "pygments_lexer": "ipython3",
   "version": "3.7.4"
  }
 },
 "nbformat": 4,
 "nbformat_minor": 2
}
